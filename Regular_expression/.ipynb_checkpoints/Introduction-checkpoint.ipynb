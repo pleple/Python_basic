{
 "cells": [
  {
   "cell_type": "markdown",
   "metadata": {},
   "source": [
    "# Matching Specific String"
   ]
  },
  {
   "cell_type": "code",
   "execution_count": 3,
   "metadata": {
    "collapsed": false
   },
   "outputs": [
    {
     "name": "stdout",
     "output_type": "stream",
     "text": [
      "The hackerrank team is on a mission to flatten the world by restructuring the DNA of every company on the planet. We rank programmers based on their coding skills, helping companies source great programmers and reduce the time to hire. As a result, we are revolutionizing the way companies discover and evaluate talented engineers. The hackerrank platform is the destination for the best engineers to hone their skills and companies to find top engineers.\n",
      "Number of matches : 2\n"
     ]
    }
   ],
   "source": [
    "import re\n",
    "Regex_Pattern = r'hackerrank'\n",
    "Test_String = input()\n",
    "match = re.findall(Regex_Pattern, Test_String)\n",
    "print('Number of matches :', len(match))"
   ]
  },
  {
   "cell_type": "code",
   "execution_count": 2,
   "metadata": {
    "collapsed": false
   },
   "outputs": [
    {
     "name": "stdout",
     "output_type": "stream",
     "text": [
      "['hackerrank', 'hackerrank']\n"
     ]
    }
   ],
   "source": [
    "print(match)"
   ]
  },
  {
   "cell_type": "markdown",
   "metadata": {},
   "source": [
    "# Matching Anything But a Newline"
   ]
  },
  {
   "cell_type": "markdown",
   "metadata": {},
   "source": [
    "The dot ($.$) matches anything (except for a newline).\n",
    "\n",
    "If you want to match ($.$) in the test string, you need to escape the dot by using a slash $\\.$ ."
   ]
  },
  {
   "cell_type": "code",
   "execution_count": 16,
   "metadata": {
    "collapsed": false
   },
   "outputs": [
    {
     "name": "stdout",
     "output_type": "stream",
     "text": [
      "123.123.123.132.123.123\n"
     ]
    }
   ],
   "source": [
    "regex_pattern = r\"^...\\....\\....\\....$\" #注意句首和句尾\n",
    "test_string = input()\n",
    "match = re.match(regex_pattern, test_string)"
   ]
  },
  {
   "cell_type": "code",
   "execution_count": 15,
   "metadata": {
    "collapsed": false
   },
   "outputs": [
    {
     "data": {
      "text/plain": [
       "True"
      ]
     },
     "execution_count": 15,
     "metadata": {},
     "output_type": "execute_result"
    }
   ],
   "source": [
    "match is not None"
   ]
  },
  {
   "cell_type": "markdown",
   "metadata": {},
   "source": [
    "# Matching Digits & Non-Digit Characters"
   ]
  },
  {
   "cell_type": "markdown",
   "metadata": {},
   "source": [
    "**\\d** : match any digit [0-9] #digit数字\n",
    "\n",
    "**\\D** : match any character that is not a digit"
   ]
  },
  {
   "cell_type": "code",
   "execution_count": 22,
   "metadata": {
    "collapsed": false
   },
   "outputs": [
    {
     "name": "stdout",
     "output_type": "stream",
     "text": [
      "06-11-201\n",
      "False\n"
     ]
    }
   ],
   "source": [
    "import re\n",
    "Regex_Pattern = r\"\\d\\d\\D\\d\\d\\D\\d\\d\\d\\d\"\n",
    "test_string = input()\n",
    "print(bool(re.search(Regex_Pattern, test_string)))"
   ]
  },
  {
   "cell_type": "markdown",
   "metadata": {},
   "source": [
    "# Matching Whitespace & Non-Whitespace Character\n",
    "\n",
    "**\\s**: match any whitespace character. \n",
    "- Including **space(\\s)**, **tab(\\t)**, **form-feed(\\f)**,**return(\\r)**,**newline(\\n)**. 匹配任何空白字符，包括空格、制表符、换页符、回车、换行\n",
    "\n",
    "**\\S**: match any non-white space character."
   ]
  },
  {
   "cell_type": "code",
   "execution_count": 24,
   "metadata": {
    "collapsed": false
   },
   "outputs": [
    {
     "name": "stdout",
     "output_type": "stream",
     "text": [
      "12 11 15\n",
      "True\n"
     ]
    }
   ],
   "source": [
    "import re\n",
    "Regex_Pattern = r\"\\S\\S\\s\\S\\S\\s\\S\\S\"\n",
    "test_string = input()\n",
    "print(bool(re.search(Regex_Pattern, test_string)))"
   ]
  },
  {
   "cell_type": "code",
   "execution_count": null,
   "metadata": {
    "collapsed": true
   },
   "outputs": [],
   "source": []
  }
 ],
 "metadata": {
  "kernelspec": {
   "display_name": "Python [Root]",
   "language": "python",
   "name": "Python [Root]"
  },
  "language_info": {
   "codemirror_mode": {
    "name": "ipython",
    "version": 3
   },
   "file_extension": ".py",
   "mimetype": "text/x-python",
   "name": "python",
   "nbconvert_exporter": "python",
   "pygments_lexer": "ipython3",
   "version": "3.5.2"
  }
 },
 "nbformat": 4,
 "nbformat_minor": 0
}
