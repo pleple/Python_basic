{
 "cells": [
  {
   "cell_type": "markdown",
   "metadata": {},
   "source": [
    "# Quartiles"
   ]
  },
  {
   "cell_type": "code",
   "execution_count": 3,
   "metadata": {
    "collapsed": false
   },
   "outputs": [
    {
     "name": "stdout",
     "output_type": "stream",
     "text": [
      "9\n",
      "3 7 8 5 12 14 21 13 18\n",
      "12\n",
      "12\n",
      "32\n"
     ]
    }
   ],
   "source": [
    "def median(X,N):\n",
    "    if N % 2 != 0:\n",
    "        return X[int((N-1)/2)]\n",
    "    else:\n",
    "        return (X[int(N/2)]+X[int(N/2)-1])/2\n",
    "N = int(input())\n",
    "X = sorted([int(x) for x in input().split(' ')])\n",
    "Q2 = median(X,N)\n",
    "if N % 2 != 0:\n",
    "    del X[int((N-1)/2)]\n",
    "N_new = int(len(X)/2)\n",
    "Q1 = median(X[:N_new],N_new)\n",
    "Q3 = median(X[N_new:],N_new)\n",
    "print(Q1)\n",
    "print(Q2)\n",
    "print(Q3)"
   ]
  },
  {
   "cell_type": "markdown",
   "metadata": {},
   "source": [
    "# Interquartile Range"
   ]
  },
  {
   "cell_type": "code",
   "execution_count": 65,
   "metadata": {
    "collapsed": false
   },
   "outputs": [
    {
     "name": "stdout",
     "output_type": "stream",
     "text": [
      "3\n",
      "1 2 3\n",
      "4 5 6\n"
     ]
    }
   ],
   "source": [
    "N = int(input())\n",
    "X = [float(x) for x in input().split(' ')]\n",
    "F = [int(f) for f in input().split(' ')]\n",
    "X_new = []\n",
    "for i in range(N):\n",
    "    X_new.extend([X[i]]*F[i]) #不需要repeat函数\n",
    "X_new = sorted(X_new)"
   ]
  },
  {
   "cell_type": "code",
   "execution_count": 54,
   "metadata": {
    "collapsed": false
   },
   "outputs": [
    {
     "name": "stdout",
     "output_type": "stream",
     "text": [
      "2.5\n"
     ]
    }
   ],
   "source": [
    "n = sum(F)\n",
    "if n % 2 != 0:\n",
    "    del X_new[int((n-1)/2)]\n",
    "N_new = int(len(X_new)/2)\n",
    "Q1 = median(X_new[:N_new],N_new)\n",
    "Q3 = median(X_new[N_new:],N_new)\n",
    "print(round(Q3-Q1,1))"
   ]
  },
  {
   "cell_type": "markdown",
   "metadata": {},
   "source": [
    "# Standard Deviation"
   ]
  },
  {
   "cell_type": "code",
   "execution_count": 55,
   "metadata": {
    "collapsed": false
   },
   "outputs": [
    {
     "name": "stdout",
     "output_type": "stream",
     "text": [
      "5\n",
      "10 40 30 50 20\n"
     ]
    }
   ],
   "source": [
    "N = int(input())\n",
    "X = [float(x) for x in input().split(' ')]"
   ]
  },
  {
   "cell_type": "code",
   "execution_count": 56,
   "metadata": {
    "collapsed": false
   },
   "outputs": [],
   "source": [
    "mean = sum(X)/N"
   ]
  },
  {
   "cell_type": "code",
   "execution_count": 60,
   "metadata": {
    "collapsed": false
   },
   "outputs": [],
   "source": [
    "var = 0\n",
    "for i in range(N):\n",
    "    var += (X[i]-mean)**2"
   ]
  },
  {
   "cell_type": "code",
   "execution_count": 64,
   "metadata": {
    "collapsed": false
   },
   "outputs": [
    {
     "name": "stdout",
     "output_type": "stream",
     "text": [
      "14.1\n"
     ]
    }
   ],
   "source": [
    "print(round((var/N)**0.5,1))"
   ]
  },
  {
   "cell_type": "code",
   "execution_count": 66,
   "metadata": {
    "collapsed": false
   },
   "outputs": [
    {
     "name": "stdout",
     "output_type": "stream",
     "text": [
      "[1.0, 1.0, 1.0, 1.0, 2.0, 2.0, 2.0, 2.0, 2.0, 3.0, 3.0, 3.0, 3.0, 3.0, 3.0]\n"
     ]
    }
   ],
   "source": []
  },
  {
   "cell_type": "code",
   "execution_count": null,
   "metadata": {
    "collapsed": true
   },
   "outputs": [],
   "source": []
  }
 ],
 "metadata": {
  "kernelspec": {
   "display_name": "Python [Root]",
   "language": "python",
   "name": "Python [Root]"
  },
  "language_info": {
   "codemirror_mode": {
    "name": "ipython",
    "version": 3
   },
   "file_extension": ".py",
   "mimetype": "text/x-python",
   "name": "python",
   "nbconvert_exporter": "python",
   "pygments_lexer": "ipython3",
   "version": "3.5.2"
  }
 },
 "nbformat": 4,
 "nbformat_minor": 0
}
